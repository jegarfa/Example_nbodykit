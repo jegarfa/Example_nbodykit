{
 "cells": [
  {
   "cell_type": "code",
   "execution_count": 1,
   "id": "d3706c7a",
   "metadata": {},
   "outputs": [
    {
     "name": "stdout",
     "output_type": "stream",
     "text": [
      "Populating the interactive namespace from numpy and matplotlib\n"
     ]
    }
   ],
   "source": [
    "%pylab inline\n",
    "from nbodykit.lab import *\n",
    "from nbodykit import style, setup_logging"
   ]
  },
  {
   "cell_type": "code",
   "execution_count": 2,
   "id": "cdd87352",
   "metadata": {},
   "outputs": [],
   "source": [
    "redshift = 0.55\n",
    "cosmo = cosmology.Planck15\n",
    "Plin = cosmology.LinearPower(cosmo, redshift, transfer='EisensteinHu')\n",
    "b1 = 2.0\n",
    "\n",
    "cat = LogNormalCatalog(Plin=Plin, nbar=3e-4, BoxSize=1380., Nmesh=256, bias=b1, seed=42)"
   ]
  },
  {
   "cell_type": "code",
   "execution_count": 3,
   "id": "f157441e",
   "metadata": {},
   "outputs": [],
   "source": [
    "# add RSD\n",
    "line_of_sight = [0,0,1]\n",
    "cat['RSDPosition'] = cat['Position'] + cat['VelocityOffset'] * line_of_sight"
   ]
  },
  {
   "cell_type": "code",
   "execution_count": 4,
   "id": "c5fc9617",
   "metadata": {},
   "outputs": [],
   "source": [
    "# convert to a MeshSource, using TSC interpolation on 256^3 mesh\n",
    "mesh = cat.to_mesh(resampler='tsc', Nmesh=256, compensated=True, position='RSDPosition')"
   ]
  },
  {
   "cell_type": "code",
   "execution_count": 5,
   "id": "b038e785",
   "metadata": {},
   "outputs": [
    {
     "name": "stdout",
     "output_type": "stream",
     "text": [
      "<BinnedStatistic: dims: (k: 115, mu: 5), variables: ('k', 'mu', 'power', 'modes')>\n"
     ]
    }
   ],
   "source": [
    "# compute the 2D power\n",
    "r = FFTPower(mesh, mode='2d', dk=0.005, kmin=0.01, Nmu=5, los=[0,0,1])\n",
    "Pkmu = r.power\n",
    "print(Pkmu)"
   ]
  },
  {
   "cell_type": "code",
   "execution_count": 6,
   "id": "102888e0",
   "metadata": {},
   "outputs": [
    {
     "name": "stdout",
     "output_type": "stream",
     "text": [
      "{'k': array([0.0125, 0.0175, 0.0225, 0.0275, 0.0325, 0.0375, 0.0425, 0.0475,\n",
      "       0.0525, 0.0575, 0.0625, 0.0675, 0.0725, 0.0775, 0.0825, 0.0875,\n",
      "       0.0925, 0.0975, 0.1025, 0.1075, 0.1125, 0.1175, 0.1225, 0.1275,\n",
      "       0.1325, 0.1375, 0.1425, 0.1475, 0.1525, 0.1575, 0.1625, 0.1675,\n",
      "       0.1725, 0.1775, 0.1825, 0.1875, 0.1925, 0.1975, 0.2025, 0.2075,\n",
      "       0.2125, 0.2175, 0.2225, 0.2275, 0.2325, 0.2375, 0.2425, 0.2475,\n",
      "       0.2525, 0.2575, 0.2625, 0.2675, 0.2725, 0.2775, 0.2825, 0.2875,\n",
      "       0.2925, 0.2975, 0.3025, 0.3075, 0.3125, 0.3175, 0.3225, 0.3275,\n",
      "       0.3325, 0.3375, 0.3425, 0.3475, 0.3525, 0.3575, 0.3625, 0.3675,\n",
      "       0.3725, 0.3775, 0.3825, 0.3875, 0.3925, 0.3975, 0.4025, 0.4075,\n",
      "       0.4125, 0.4175, 0.4225, 0.4275, 0.4325, 0.4375, 0.4425, 0.4475,\n",
      "       0.4525, 0.4575, 0.4625, 0.4675, 0.4725, 0.4775, 0.4825, 0.4875,\n",
      "       0.4925, 0.4975, 0.5025, 0.5075, 0.5125, 0.5175, 0.5225, 0.5275,\n",
      "       0.5325, 0.5375, 0.5425, 0.5475, 0.5525, 0.5575, 0.5625, 0.5675,\n",
      "       0.5725, 0.5775, 0.5825]), 'mu': array([-8.00000000e-01, -4.00000000e-01,  1.11022302e-16,  4.00000000e-01,\n",
      "        8.00000000e-01])}\n"
     ]
    }
   ],
   "source": [
    "print(Pkmu.coords)"
   ]
  },
  {
   "cell_type": "code",
   "execution_count": 10,
   "id": "09489c1b",
   "metadata": {},
   "outputs": [
    {
     "data": {
      "text/plain": [
       "(0.01, 0.6)"
      ]
     },
     "execution_count": 10,
     "metadata": {},
     "output_type": "execute_result"
    },
    {
     "data": {
      "image/png": "[encoded data removed]",
      "text/plain": [
       "<Figure size 432x288 with 1 Axes>"
      ]
     },
     "metadata": {
      "needs_background": "light"
     },
     "output_type": "display_data"
    }
   ],
   "source": [
    "# plot each mu bin\n",
    "for i in range(Pkmu.shape[1]):\n",
    "    Pk = Pkmu[:,i] # select the ith mu bin\n",
    "    label = r'$\\mu$=%.1f' % (Pkmu.coords['mu'][i])\n",
    "    plt.loglog(Pk['k'], Pk['power'].real - Pk.attrs['shotnoise'], label=label)\n",
    "\n",
    "# format the axes\n",
    "plt.legend(loc=0, ncol=2)\n",
    "plt.xlabel(r\"$k$ [$h \\ \\mathrm{Mpc}^{-1}$]\")\n",
    "plt.ylabel(r\"$P(k, \\mu)$ [$h^{-3}\\mathrm{Mpc}^3$]\")\n",
    "plt.xlim(0.01, 0.6)"
   ]
  },
  {
   "cell_type": "code",
   "execution_count": null,
   "id": "b942d05e",
   "metadata": {},
   "outputs": [],
   "source": []
  },
  {
   "cell_type": "code",
   "execution_count": null,
   "id": "cd55e126",
   "metadata": {},
   "outputs": [],
   "source": []
  },
  {
   "cell_type": "code",
   "execution_count": null,
   "id": "35645f1b",
   "metadata": {},
   "outputs": [],
   "source": []
  }
 ],
 "metadata": {
  "kernelspec": {
   "display_name": "Python 3",
   "language": "python",
   "name": "python3"
  },
  "language_info": {
   "codemirror_mode": {
    "name": "ipython",
    "version": 3
   },
   "file_extension": ".py",
   "mimetype": "text/x-python",
   "name": "python",
   "nbconvert_exporter": "python",
   "pygments_lexer": "ipython3",
   "version": "3.8.5"
  },
  "varInspector": {
   "cols": {
    "lenName": 16,
    "lenType": 16,
    "lenVar": 40
   },
   "kernels_config": {
    "python": {
     "delete_cmd_postfix": "",
     "delete_cmd_prefix": "del ",
     "library": "var_list.py",
     "varRefreshCmd": "print(var_dic_list())"
    },
    "r": {
     "delete_cmd_postfix": ") ",
     "delete_cmd_prefix": "rm(",
     "library": "var_list.r",
     "varRefreshCmd": "cat(var_dic_list()) "
    }
   },
   "types_to_exclude": [
    "module",
    "function",
    "builtin_function_or_method",
    "instance",
    "_Feature"
   ],
   "window_display": false
  }
 },
 "nbformat": 4,
 "nbformat_minor": 5
}
